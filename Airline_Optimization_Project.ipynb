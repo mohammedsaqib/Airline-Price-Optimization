{
  "nbformat": 4,
  "nbformat_minor": 0,
  "metadata": {
    "colab": {
      "name": "Airline Optimization Project.ipynb",
      "provenance": [],
      "collapsed_sections": []
    },
    "kernelspec": {
      "name": "python3",
      "display_name": "Python 3"
    }
  },
  "cells": [
    {
      "cell_type": "code",
      "metadata": {
        "id": "5hsW51XOEEGk",
        "colab_type": "code",
        "colab": {}
      },
      "source": [
        "from IPython.display import display, Javascript\n",
        "import json\n",
        "from numpy.random import uniform, seed\n",
        "from numpy import floor\n",
        "from collections import namedtuple\n",
        "import random \n",
        "import statistics\n",
        "\n",
        "def _tickets_sold(p, demand_level, max_qty):\n",
        "        quantity_demanded = floor(max(0, p - demand_level))\n",
        "        return min(quantity_demanded, max_qty)\n",
        "\n",
        "def simulate_revenue(days_left, tickets_left, pricing_function, rev_to_date=0, demand_level_min=100, demand_level_max=200, verbose=False):\n",
        "    if (days_left == 0) or (tickets_left == 0):\n",
        "        if verbose:\n",
        "            if (days_left == 0):\n",
        "                print(\"The flight took off today. \")\n",
        "            if (tickets_left == 0):\n",
        "                print(\"This flight is booked full.\")\n",
        "            print(\"Total Revenue: ${:.0f}\".format(rev_to_date))\n",
        "        return rev_to_date\n",
        "    else:\n",
        "        demand_level = uniform(demand_level_min, demand_level_max)\n",
        "        p = pricing_function(days_left, tickets_left, demand_level)\n",
        "        q = _tickets_sold(demand_level, p, tickets_left)\n",
        "        if verbose:\n",
        "            print(\"{:.0f} days before flight: \"\n",
        "                  \"Started with {:.0f} seats. \"\n",
        "                  \"Demand level: {:.0f}. \"\n",
        "                  \"Price set to ${:.0f}. \"\n",
        "                  \"Sold {:.0f} tickets. \"\n",
        "                  \"Daily revenue is {:.0f}. Total revenue-to-date is {:.0f}. \"\n",
        "                  \"{:.0f} seats remaining\".format(days_left, tickets_left, demand_level, p, q, p*q, p*q+rev_to_date, tickets_left-q))\n",
        "        return simulate_revenue(days_left = days_left-1,\n",
        "                              tickets_left = tickets_left-q,\n",
        "                              pricing_function=pricing_function,\n",
        "                              rev_to_date=rev_to_date + p * q,\n",
        "                              demand_level_min=demand_level_min,\n",
        "                              demand_level_max=demand_level_max,\n",
        "                              verbose=verbose)\n",
        "\n",
        "def _save_score(score):\n",
        "    message = {\n",
        "        'jupyterEvent': 'custom.exercise_interaction',\n",
        "        'data': {\n",
        "            'learnTutorialId': 117,\n",
        "            'interactionType': \"check\",\n",
        "            'questionId': 'Aug31OptimizationChallenge',\n",
        "            'outcomeType': 'Pass',\n",
        "            'valueTowardsCompletion': score/10000,\n",
        "            'failureMessage': None,\n",
        "            'learnToolsVersion': \"Testing\"\n",
        "        }\n",
        "    }\n",
        "    js = 'parent.postMessage(%s, \"*\")' % json.dumps(message)\n",
        "    display(Javascript(js))\n",
        "\n",
        "def score_me(pricing_function, sims_per_scenario=200):\n",
        "    seed(0)\n",
        "    Scenario = namedtuple('Scenario', 'n_days n_tickets')\n",
        "    scenarios = [Scenario(n_days=100, n_tickets=100),\n",
        "                 Scenario(n_days=14, n_tickets=50),\n",
        "                 Scenario(n_days=2, n_tickets=20),\n",
        "                Scenario(n_days=1, n_tickets=3),\n",
        "                 ]\n",
        "    scenario_scores = []\n",
        "    for s in scenarios:\n",
        "        scenario_score = sum(simulate_revenue(s.n_days, s.n_tickets, pricing_function)\n",
        "                                     for _ in range(sims_per_scenario)) / sims_per_scenario\n",
        "        print(\"Ran {:.0f} flights starting {:.0f} days before flight with {:.0f} tickets. \"\n",
        "              \"Average revenue: ${:.0f}\".format(sims_per_scenario,\n",
        "                                                s.n_days,\n",
        "                                                s.n_tickets,\n",
        "                                                scenario_score))\n",
        "        scenario_scores.append(scenario_score)\n",
        "    score = sum(scenario_scores) / len(scenario_scores)\n",
        "    try:\n",
        "        _save_score(score)\n",
        "    except:\n",
        "        pass\n",
        "    print(\"Average revenue across all flights is ${:.0f}\".format(score))"
      ],
      "execution_count": 0,
      "outputs": []
    },
    {
      "cell_type": "code",
      "metadata": {
        "id": "f1g6y46IElXb",
        "colab_type": "code",
        "colab": {}
      },
      "source": [
        "# def pricing_function(days_left, tickets_left, demand_level):\n",
        "    \n",
        "#     \"\"\"Sample pricing function\"\"\"\n",
        "#     #under a KNOWN series of prices - what would be optimal? - lets try n scenarios and pick the median\n",
        "\n",
        "#     n=10\n",
        "#     #maxREV=[0]*n \n",
        "#     P=[200]*n\n",
        "#     for sim_i in range(n):\n",
        "#         # 100 (n) price scenarios\n",
        "#         simD=[random.randrange(100, 200, 1) for i in range(days_left)] #randomly asigned future demand levels\n",
        "#         simD[0]=int(demand_level) # at 0 I place the actual known demand value of today\n",
        "#         #the best pricing with full information: calculate a margional revenue for a marginal ticket in each period and every time take the highest\n",
        "#         simT=[0]*days_left #a list of tickets optimally sold each day\n",
        "#         simMR=simD.copy() #marginal revenue from the ticket, if sold in a specific day\n",
        "#         #for d_i in range(days_left):\n",
        "#         #    simMR[d_i]=simD[d_i]-1\n",
        "#         for ticket_i in range(int(tickets_left)):\n",
        "#           if max(simMR)>0:\n",
        "#                 #maxREV[sim_i]+=max(simMR)\n",
        "#                 temp=simMR.index(max(simMR)) # on which day its best to sell this marginal ticket\n",
        "#                 simMR[temp]=simMR[temp]-1-simT[temp] # update the marginal revenue for that day\n",
        "#                 simT[temp]+=1\n",
        "\n",
        "#         P[sim_i]=simD[0]-simT[0]\n",
        "#     price=int(statistics.median(P))    \n",
        "#     #    price = demand_level - 10\n",
        "#     return price\n",
        "\n",
        "    \n",
        "\n",
        "\n",
        "\n",
        "\n"
      ],
      "execution_count": 0,
      "outputs": []
    },
    {
      "cell_type": "code",
      "metadata": {
        "id": "LrdkfoPru4x2",
        "colab_type": "code",
        "colab": {}
      },
      "source": [
        "### Simple function 1 - sell 10 tickets everyday\n",
        "\n",
        "def pricing_function(days_left, tickets_left, demand_level):\n",
        "    \n",
        "    price = demand_level - 10\n",
        "    return price\n"
      ],
      "execution_count": 0,
      "outputs": []
    },
    {
      "cell_type": "code",
      "metadata": {
        "id": "WFo5dfQN2Fde",
        "colab_type": "code",
        "colab": {}
      },
      "source": [
        "### Simple function 2 - sell equal number of tickets everyday (total tickets/ total days)\n",
        "\n",
        "def pricing_function(days_left, tickets_left, demand_level):\n",
        "    \n",
        "    price = demand_level - tickets_left/days_left\n",
        "    return price\n"
      ],
      "execution_count": 0,
      "outputs": []
    },
    {
      "cell_type": "code",
      "metadata": {
        "id": "JhDu0cYn2yVf",
        "colab_type": "code",
        "colab": {}
      },
      "source": [
        "### Simple function 3 - divide the tickets left by number of days left. And if the demand for that day is high - we charge a lower price and viceversa\n",
        "\n",
        "def pricing_function(days_left, tickets_left, demand_level):\n",
        "    \n",
        "    price = demand_level - ((tickets_left/days_left)* (demand_level-100)/50)\n",
        "    return price\n"
      ],
      "execution_count": 0,
      "outputs": []
    },
    {
      "cell_type": "code",
      "metadata": {
        "id": "kzB4izTO5MiW",
        "colab_type": "code",
        "colab": {}
      },
      "source": [
        "### Simple function 4 \n",
        "\n",
        "def pricing_function(days_left, tickets_left, demand_level):\n",
        "    \n",
        "    if days_left==1:  # selling all the remaining tickets\n",
        "       price = demand_level-tickets_left \n",
        "\n",
        "    elif demand_level >= 185 and tickets_left >= demand_level/3:    #if the demand is high, we are selling half the tickets\n",
        "        price = min(demand_level-(tickets_left/days_left), demand_level - (demand_level/3))\n",
        "\n",
        "    elif demand_level >= 150: # if the demand is in the top 50%, we are selling equal number of tickets every day\n",
        "        price = demand_level-(tickets_left/days_left)\n",
        "\n",
        "    else: # if the demand is low, we are just selling one ticket that day\n",
        "        price = demand_level-1\n",
        "\n",
        "    return price"
      ],
      "execution_count": 0,
      "outputs": []
    },
    {
      "cell_type": "code",
      "metadata": {
        "id": "No1jLG_uPa9X",
        "colab_type": "code",
        "colab": {}
      },
      "source": [
        "### Simple function 5  -  getting more selective. If we have more days, we'll sell tickets only if the demand level is high\n",
        "\n",
        "def pricing_function(days_left, tickets_left, demand_level):\n",
        "\n",
        "    if days_left > 14:  \n",
        "        if demand_level >= 180:\n",
        "            price = demand_level - ((demand_level - 100)/10)\n",
        "            return price\n",
        "        else:\n",
        "            price = demand_level\n",
        "            return price\n",
        "    if days_left >= 2 and days_left <=14:\n",
        "        if demand_level >= 150:\n",
        "            price = demand_level - ((demand_level - 100)/ 10)\n",
        "            return price\n",
        "        else:\n",
        "            price = demand_level\n",
        "            return price\n",
        "    if days_left == 1:\n",
        "        price = demand_level - tickets_left\n",
        "        return price\n",
        "\n"
      ],
      "execution_count": 0,
      "outputs": []
    },
    {
      "cell_type": "code",
      "metadata": {
        "id": "_ebxh8SSJhN8",
        "colab_type": "code",
        "colab": {}
      },
      "source": [
        "\n",
        "#### Simple function 6  -  using average and standard deviation of demand level.\n",
        "\n",
        "demand_list = []\n",
        "avrg_demand = demand_list\n",
        "\n",
        "def avrg_calc(demand_level):\n",
        "    avrg_demand.append(demand_level)\n",
        "    return np.mean(avrg_demand)\n",
        "\n",
        "def std_demand(demand_level):\n",
        "    return np.std(avrg_demand)\n",
        "\n",
        "def pricing_function(days_left, tickets_left, demand_level):\n",
        "  average_demand = avrg_calc(demand_level)  #Average demand\n",
        "  STD_demand = std_demand(demand_level)     #Standard deviation of demand\n",
        "\n",
        "  if days_left > 14:\n",
        "    if demand_level >= average_demand + (STD_demand):   #If demand is 1 standard deviation above the average\n",
        "      price = demand_level - ((demand_level-100)/10)\n",
        "      return price\n",
        "    else:\n",
        "      price = demand_level\n",
        "      return price\n",
        "  if days_left >= 2 and days_left <= 14:\n",
        "    if demand_level >= average_demand + (0.5*STD_demand):  #If demand is 0.5 standard deviation above the average\n",
        "      price = demand_level - ((demand_level-100)/10)\n",
        "      return price\n",
        "    else:\n",
        "      price = demand_level\n",
        "      return price\n",
        "  if days_left == 1:   #Last day\n",
        "    price = demand_level - tickets_left\n",
        "    return price"
      ],
      "execution_count": 0,
      "outputs": []
    },
    {
      "cell_type": "markdown",
      "metadata": {
        "id": "sPDWvUGfizRt",
        "colab_type": "text"
      },
      "source": [
        "https://www.kaggle.com/sausagelion/airline-price-optimization-micro-challenge\n",
        "\n",
        "We decided to sell tickets only days where demand is above a certain threshold, thus we had to calculate what the ideal threshold is.\n",
        "\n",
        "As a simple case, if we choose to sell tickets on 100% of days, the expected revenue can be written as follows:\n",
        "\n",
        "revenue=(150−(tickets/days))∗tickets ## selling equal number of tickets every day\n",
        "\n",
        "\n",
        "If we decide to sell tickets only on fraction of days, where demand is higher than a threshold, we get the following formula:\n",
        "\n",
        "revenue=(200−50∗fraction−tickets/(days∗fraction))∗tickets\n",
        " \n",
        "(upper bound of demand = 200, lower bound of demand = 200 - 100*fraction. Hence expected value is 200 - 50*fraction)\n",
        "\n",
        "Then we need to maximise revenue with respect to fraction, where tickets and days are known constants. After taking a derivative and equating it to zero, we get the following:\n",
        "\n",
        "fraction=sqrt(tickets/(50∗days))\n",
        " "
      ]
    },
    {
      "cell_type": "code",
      "metadata": {
        "id": "DLncY8UjZmZl",
        "colab_type": "code",
        "colab": {}
      },
      "source": [
        "### Simple function 7\n",
        "\n",
        "def pricing_function(days_left, tickets_left, demand_level):\n",
        "\n",
        "    if days_left == 1:\n",
        "        price = demand_level - tickets_left\n",
        "        #price = demand_level/2\n",
        "    else:\n",
        "        #we will sell tickets only if demand crosses a threshold\n",
        "        #the optimum demand is calculated by checking where the derivative reaches maximum\n",
        "        fraction = (tickets_left / (50 * days_left)) ** 0.5\n",
        "        demand_treshold = int(200 - fraction*100)\n",
        "        if demand_level >= demand_treshold:\n",
        "            tickets_to_sell = int(tickets_left / (days_left * fraction))\n",
        "            price = demand_level - tickets_to_sell\n",
        "        else:\n",
        "            #if the demand is not above the threshold, we are not selling any tickets\n",
        "            price = demand_level\n",
        "    return price\n"
      ],
      "execution_count": 0,
      "outputs": []
    },
    {
      "cell_type": "code",
      "metadata": {
        "id": "M6LAlalOs0m-",
        "colab_type": "code",
        "outputId": "4d0df2ac-14e0-4025-bc03-d5ca1fb96284",
        "colab": {
          "base_uri": "https://localhost:8080/",
          "height": 221
        }
      },
      "source": [
        "simulate_revenue(days_left=7, tickets_left=50, pricing_function=pricing_function, verbose=True)"
      ],
      "execution_count": 0,
      "outputs": [
        {
          "output_type": "stream",
          "text": [
            "7 days before flight: Started with 50 seats. Demand level: 159. Price set to $159. Sold 0 tickets. Daily revenue is 0. Total revenue-to-date is 0. 50 seats remaining\n",
            "6 days before flight: Started with 50 seats. Demand level: 174. Price set to $154. Sold 20 tickets. Daily revenue is 3080. Total revenue-to-date is 3080. 30 seats remaining\n",
            "5 days before flight: Started with 30 seats. Demand level: 138. Price set to $138. Sold 0 tickets. Daily revenue is 0. Total revenue-to-date is 3080. 30 seats remaining\n",
            "4 days before flight: Started with 30 seats. Demand level: 151. Price set to $151. Sold 0 tickets. Daily revenue is 0. Total revenue-to-date is 3080. 30 seats remaining\n",
            "3 days before flight: Started with 30 seats. Demand level: 189. Price set to $167. Sold 22 tickets. Daily revenue is 3670. Total revenue-to-date is 6749. 8 seats remaining\n",
            "2 days before flight: Started with 8 seats. Demand level: 165. Price set to $165. Sold 0 tickets. Daily revenue is 0. Total revenue-to-date is 6749. 8 seats remaining\n",
            "1 days before flight: Started with 8 seats. Demand level: 154. Price set to $146. Sold 8 tickets. Daily revenue is 1164. Total revenue-to-date is 7914. 0 seats remaining\n",
            "The flight took off today. \n",
            "This flight is booked full.\n",
            "Total Revenue: $7914\n"
          ],
          "name": "stdout"
        },
        {
          "output_type": "execute_result",
          "data": {
            "text/plain": [
              "7913.846123535096"
            ]
          },
          "metadata": {
            "tags": []
          },
          "execution_count": 30
        }
      ]
    },
    {
      "cell_type": "code",
      "metadata": {
        "id": "PxzC1-WgFzwg",
        "colab_type": "code",
        "outputId": "344b6798-0190-4658-835f-1d597f7b88f7",
        "colab": {
          "base_uri": "https://localhost:8080/",
          "height": 100
        }
      },
      "source": [
        "score_me(pricing_function)"
      ],
      "execution_count": 0,
      "outputs": [
        {
          "output_type": "stream",
          "text": [
            "Ran 200 flights starting 100 days before flight with 100 tickets. Average revenue: $18390\n",
            "Ran 200 flights starting 14 days before flight with 50 tickets. Average revenue: $8408\n",
            "Ran 200 flights starting 2 days before flight with 20 tickets. Average revenue: $2806\n",
            "Ran 200 flights starting 1 days before flight with 3 tickets. Average revenue: $447\n"
          ],
          "name": "stdout"
        },
        {
          "output_type": "display_data",
          "data": {
            "application/javascript": [
              "parent.postMessage({\"jupyterEvent\": \"custom.exercise_interaction\", \"data\": {\"learnTutorialId\": 117, \"interactionType\": \"check\", \"questionId\": \"Aug31OptimizationChallenge\", \"outcomeType\": \"Pass\", \"valueTowardsCompletion\": 0.7512517977484853, \"failureMessage\": null, \"learnToolsVersion\": \"Testing\"}}, \"*\")"
            ],
            "text/plain": [
              "<IPython.core.display.Javascript object>"
            ]
          },
          "metadata": {
            "tags": []
          }
        },
        {
          "output_type": "stream",
          "text": [
            "Average revenue across all flights is $7513\n"
          ],
          "name": "stdout"
        }
      ]
    },
    {
      "cell_type": "markdown",
      "metadata": {
        "id": "_JcXdoloV_T2",
        "colab_type": "text"
      },
      "source": [
        "Model 8: Dynamic Programming:"
      ]
    },
    {
      "cell_type": "code",
      "metadata": {
        "id": "pnccDEVVWD33",
        "colab_type": "code",
        "colab": {}
      },
      "source": [
        "import numpy as np\n",
        "import copy\n",
        "\n",
        "def pricing_function (days_left, tickets_left, demand_level):\n",
        "\n",
        "  t=int(tickets_left)\n",
        "  d=int(days_left)\n",
        "  dl=int(demand_level)\n",
        "\n",
        "  dValues=np.linspace(start=0, stop=d, num=d+1)\n",
        "  tValues=np.linspace(start=0, stop=t, num=t+1)\n",
        "  dN=len(dValues)\n",
        "  tN=len(tValues)\n",
        "\n",
        "  V = np.zeros( (dN, tN) )\n",
        "  U = copy.deepcopy(V)\n",
        "  for d in (dValues):\n",
        "    for t in (tValues):\n",
        "    #for each time value the loop through the possible values of Tickets\n",
        "    #cat(d,t)\n",
        "      if(d==0):\n",
        "        # Boundary condition\n",
        "        V[int(d), int(t)]=0\n",
        "      elif(t==0):\n",
        "        # Boundary Condition \n",
        "        V[int(d), int(t)]=0\n",
        "      else:\n",
        "        # Bellman Equation\n",
        "          p = np.linspace(start=(dl-t), stop=dl, num=dl+1) # checking for all values of prices less than demand level\n",
        "          valueChoices=np.linspace(start=(dl-t), stop=dl, num=dl+1) # Storing the value for each price\n",
        "          for index in range(len(p)):\n",
        "            valueChoices[index]= p[index]*max(min(t,dl-p[index]),0) +V[int(d-1),int(t-max(min(t,dl-p[index]),0))]\n",
        "          #print(valueChoices)\n",
        "          #print(d,t,max(valueChoices))\n",
        "          V[int(d), int(t)]=max(valueChoices)\n",
        "          #print(V)\n",
        "          U[int(d), int(t)]=p[np.argmax(valueChoices)]\n",
        "  #print(V)\n",
        "\n",
        "  return(U[int(dN-1),int(tN-1)])\n",
        "  \n"
      ],
      "execution_count": 0,
      "outputs": []
    },
    {
      "cell_type": "code",
      "metadata": {
        "id": "m2KwTeAAM874",
        "colab_type": "code",
        "outputId": "408206e5-47b9-4eb6-8f5c-babd11c93e3f",
        "colab": {
          "base_uri": "https://localhost:8080/",
          "height": 33
        }
      },
      "source": [
        "pricing_function(10,10,100)"
      ],
      "execution_count": 0,
      "outputs": [
        {
          "output_type": "execute_result",
          "data": {
            "text/plain": [
              "99.0"
            ]
          },
          "metadata": {
            "tags": []
          },
          "execution_count": 2
        }
      ]
    },
    {
      "cell_type": "markdown",
      "metadata": {
        "id": "SJJjM9TrLnDY",
        "colab_type": "text"
      },
      "source": [
        "Creating U matrix for all combinations:\n",
        "\n",
        "When the pricing function above is used directly for simulating the optimal prices, for each and every scenario of the dl around d*t*dl number of calculations are performed which made the entire program computationally intense. There is a lot of repetition of calculation for optimal prices, which can be avoided if a matrix with all possible values is created and the pricing function just pulls the respective record needed for the corresponding d, t, dl values, In the coming sections we created an U matrix which is used to evaluate the optimal pricing for all possible combinations and pricing_function pulls the respective record.\n",
        "\n",
        "* - This creation of U Matrix will take around 20 min to 30 minutes to run\n",
        "\n"
      ]
    },
    {
      "cell_type": "code",
      "metadata": {
        "id": "0Lx8j4VCLj-1",
        "colab_type": "code",
        "outputId": "e0af069b-775e-45fa-d4a4-2a19201bf63e",
        "colab": {
          "base_uri": "https://localhost:8080/",
          "height": 1000
        }
      },
      "source": [
        "t=100\n",
        "d=100\n",
        "dl=200\n",
        "\n",
        "dValues=np.linspace(start=0, stop=d, num=d+1)\n",
        "tValues=np.linspace(start=0, stop=t, num=t+1)\n",
        "dlvalues=np.linspace(start=100, stop=dl, num=101)\n",
        "dN=len(dValues)\n",
        "tN=len(tValues)\n",
        "dlN=len(dlvalues)\n",
        "\n",
        "V = np.zeros( (dN, tN,dlN) )\n",
        "U = copy.deepcopy(V)\n",
        "V\n",
        "\n",
        "for dl in (dlvalues):\n",
        "  for d in (dValues):\n",
        "      for t in (tValues):\n",
        "      #for each time value the loop through the possible values of Tickets\n",
        "      #cat(d,t)\n",
        "        if(d==0):\n",
        "          # Boundary condition\n",
        "          V[int(d), int(t),int(dl-100)]=0\n",
        "        elif(t==0):\n",
        "          # Boundary Condition \n",
        "          V[int(d), int(t),int(dl-100)]=0\n",
        "        else:\n",
        "          # Bellman Equation\n",
        "            p = np.linspace(start=int(dl-t), stop=int(dl), num=int(dl+1)) # checking for all values of prices less than demand level\n",
        "            valueChoices=np.linspace(start=int(dl-t), stop=int(dl), num=int(dl+1)) # Storing the value for each price\n",
        "            for index in range(len(p)):\n",
        "              valueChoices[index]= p[index]*max(min(t,dl-p[index]),0) +V[int(d-1),int(t-max(min(t,dl-p[index]),0)),int(dl-100)]\n",
        "            #print(valueChoices)\n",
        "            #print(d,t,max(valueChoices))\n",
        "            V[int(d), int(t),int(dl-100)]=max(valueChoices)\n",
        "            #print(V)\n",
        "            U[int(d), int(t),int(dl-100)]=p[np.argmax(valueChoices)]\n",
        "  #print(V)\n",
        "U\n",
        "\n",
        "\n"
      ],
      "execution_count": 0,
      "outputs": [
        {
          "output_type": "execute_result",
          "data": {
            "text/plain": [
              "array([[[  0.        ,   0.        ,   0.        , ...,   0.        ,\n",
              "           0.        ,   0.        ],\n",
              "        [  0.        ,   0.        ,   0.        , ...,   0.        ,\n",
              "           0.        ,   0.        ],\n",
              "        [  0.        ,   0.        ,   0.        , ...,   0.        ,\n",
              "           0.        ,   0.        ],\n",
              "        ...,\n",
              "        [  0.        ,   0.        ,   0.        , ...,   0.        ,\n",
              "           0.        ,   0.        ],\n",
              "        [  0.        ,   0.        ,   0.        , ...,   0.        ,\n",
              "           0.        ,   0.        ],\n",
              "        [  0.        ,   0.        ,   0.        , ...,   0.        ,\n",
              "           0.        ,   0.        ]],\n",
              "\n",
              "       [[  0.        ,   0.        ,   0.        , ...,   0.        ,\n",
              "           0.        ,   0.        ],\n",
              "        [ 99.        , 100.        , 101.        , ..., 197.        ,\n",
              "         198.        , 199.        ],\n",
              "        [ 98.        ,  99.        , 100.        , ..., 196.        ,\n",
              "         197.        , 198.        ],\n",
              "        ...,\n",
              "        [ 50.02      ,  50.54455446,  51.07843137, ..., 100.        ,\n",
              "         101.        , 102.        ],\n",
              "        [ 49.51      ,  50.02970297,  50.55882353, ...,  99.        ,\n",
              "         100.        , 101.        ],\n",
              "        [ 50.        ,  50.5049505 ,  51.01960784, ...,  99.01010101,\n",
              "          99.50251256, 100.        ]],\n",
              "\n",
              "       [[  0.        ,   0.        ,   0.        , ...,   0.        ,\n",
              "           0.        ,   0.        ],\n",
              "        [ 99.        , 100.        , 101.        , ..., 197.        ,\n",
              "         198.        , 199.        ],\n",
              "        [ 99.        , 100.00990099, 101.        , ..., 197.        ,\n",
              "         198.00502513, 199.        ],\n",
              "        ...,\n",
              "        [ 51.        ,  52.48514851,  53.        , ..., 149.        ,\n",
              "         150.24623116, 151.        ],\n",
              "        [ 50.5       ,  51.00990099,  52.5       , ..., 148.        ,\n",
              "         150.24623116, 150.005     ],\n",
              "        [ 50.        ,  51.4950495 ,  52.        , ..., 148.        ,\n",
              "         149.25125628, 150.        ]],\n",
              "\n",
              "       ...,\n",
              "\n",
              "       [[  0.        ,   0.        ,   0.        , ...,   0.        ,\n",
              "           0.        ,   0.        ],\n",
              "        [ 99.        , 100.        , 101.        , ..., 197.        ,\n",
              "         198.        , 199.        ],\n",
              "        [ 99.        , 100.00990099, 101.        , ..., 197.        ,\n",
              "         198.00502513, 199.        ],\n",
              "        ...,\n",
              "        [ 99.02      , 100.02970297, 101.03921569, ..., 197.01010101,\n",
              "         195.06030151, 196.08      ],\n",
              "        [ 99.01      , 100.01980198, 101.02941176, ..., 197.        ,\n",
              "         198.00502513, 199.01      ],\n",
              "        [ 99.        , 100.00990099, 101.01960784, ..., 191.43434343,\n",
              "         192.46733668, 199.        ]],\n",
              "\n",
              "       [[  0.        ,   0.        ,   0.        , ...,   0.        ,\n",
              "           0.        ,   0.        ],\n",
              "        [ 99.        , 100.        , 101.        , ..., 197.        ,\n",
              "         198.        , 199.        ],\n",
              "        [ 99.        , 100.00990099, 101.        , ..., 197.        ,\n",
              "         198.00502513, 199.        ],\n",
              "        ...,\n",
              "        [ 99.02      , 100.02970297, 101.03921569, ..., 197.01010101,\n",
              "         195.06030151, 196.08      ],\n",
              "        [ 99.01      , 100.01980198, 101.02941176, ..., 197.        ,\n",
              "         198.00502513, 199.01      ],\n",
              "        [ 99.        , 100.00990099, 101.01960784, ..., 191.43434343,\n",
              "         192.46733668, 199.        ]],\n",
              "\n",
              "       [[  0.        ,   0.        ,   0.        , ...,   0.        ,\n",
              "           0.        ,   0.        ],\n",
              "        [ 99.        , 100.        , 101.        , ..., 197.        ,\n",
              "         198.        , 199.        ],\n",
              "        [ 99.        , 100.00990099, 101.        , ..., 197.        ,\n",
              "         198.00502513, 199.        ],\n",
              "        ...,\n",
              "        [ 99.02      , 100.02970297, 101.03921569, ..., 197.01010101,\n",
              "         195.06030151, 196.08      ],\n",
              "        [ 99.01      , 100.01980198, 101.02941176, ..., 197.        ,\n",
              "         198.00502513, 199.01      ],\n",
              "        [ 99.        , 100.00990099, 101.01960784, ..., 191.43434343,\n",
              "         192.46733668, 199.        ]]])"
            ]
          },
          "metadata": {
            "tags": []
          },
          "execution_count": 15
        }
      ]
    },
    {
      "cell_type": "code",
      "metadata": {
        "id": "5tj6bksc4-8y",
        "colab_type": "code",
        "colab": {}
      },
      "source": [
        "def pricing_function (days_left, tickets_left, demand_level):\n",
        "  t=int(tickets_left)\n",
        "  d=int(days_left)\n",
        "  dl=int(demand_level)\n",
        "  return U[d,t,dl-100]"
      ],
      "execution_count": 0,
      "outputs": []
    },
    {
      "cell_type": "code",
      "metadata": {
        "id": "RGP5FfKPuo-Y",
        "colab_type": "code",
        "outputId": "938563e5-1eaf-435a-9cb1-1600786b2c97",
        "colab": {
          "base_uri": "https://localhost:8080/",
          "height": 98
        }
      },
      "source": [
        "score_me(pricing_function)"
      ],
      "execution_count": 0,
      "outputs": [
        {
          "output_type": "stream",
          "text": [
            "Ran 200 flights starting 100 days before flight with 100 tickets. Average revenue: $14728\n",
            "Ran 200 flights starting 14 days before flight with 50 tickets. Average revenue: $7230\n",
            "Ran 200 flights starting 2 days before flight with 20 tickets. Average revenue: $2845\n",
            "Ran 200 flights starting 1 days before flight with 3 tickets. Average revenue: $438\n"
          ],
          "name": "stdout"
        },
        {
          "output_type": "display_data",
          "data": {
            "application/javascript": [
              "parent.postMessage({\"jupyterEvent\": \"custom.exercise_interaction\", \"data\": {\"learnTutorialId\": 117, \"interactionType\": \"check\", \"questionId\": \"Aug31OptimizationChallenge\", \"outcomeType\": \"Pass\", \"valueTowardsCompletion\": 0.6310379276929498, \"failureMessage\": null, \"learnToolsVersion\": \"Testing\"}}, \"*\")"
            ],
            "text/plain": [
              "<IPython.core.display.Javascript object>"
            ]
          },
          "metadata": {
            "tags": []
          }
        },
        {
          "output_type": "stream",
          "text": [
            "Average revenue across all flights is $6310\n"
          ],
          "name": "stdout"
        }
      ]
    },
    {
      "cell_type": "code",
      "metadata": {
        "id": "90m58VIJ4-tL",
        "colab_type": "code",
        "outputId": "06460165-e971-479b-dc0c-97e851181329",
        "colab": {
          "base_uri": "https://localhost:8080/",
          "height": 196
        }
      },
      "source": [
        "simulate_revenue(days_left=7, tickets_left=50, pricing_function=pricing_function, verbose=True)"
      ],
      "execution_count": 0,
      "outputs": [
        {
          "output_type": "stream",
          "text": [
            "7 days before flight: Started with 50 seats. Demand level: 117. Price set to $111. Sold 6 tickets. Daily revenue is 666. Total revenue-to-date is 666. 44 seats remaining\n",
            "6 days before flight: Started with 44 seats. Demand level: 180. Price set to $169. Sold 11 tickets. Daily revenue is 1859. Total revenue-to-date is 2525. 33 seats remaining\n",
            "5 days before flight: Started with 33 seats. Demand level: 171. Price set to $165. Sold 5 tickets. Daily revenue is 825. Total revenue-to-date is 3350. 28 seats remaining\n",
            "4 days before flight: Started with 28 seats. Demand level: 191. Price set to $181. Sold 9 tickets. Daily revenue is 1629. Total revenue-to-date is 4979. 19 seats remaining\n",
            "3 days before flight: Started with 19 seats. Demand level: 143. Price set to $137. Sold 6 tickets. Daily revenue is 822. Total revenue-to-date is 5801. 13 seats remaining\n",
            "2 days before flight: Started with 13 seats. Demand level: 187. Price set to $179. Sold 7 tickets. Daily revenue is 1253. Total revenue-to-date is 7054. 6 seats remaining\n",
            "1 days before flight: Started with 6 seats. Demand level: 170. Price set to $163. Sold 6 tickets. Daily revenue is 978. Total revenue-to-date is 8032. 0 seats remaining\n",
            "The flight took off today. \n",
            "This flight is booked full.\n",
            "Total Revenue: $8032\n"
          ],
          "name": "stdout"
        },
        {
          "output_type": "execute_result",
          "data": {
            "text/plain": [
              "8032.486163185994"
            ]
          },
          "metadata": {
            "tags": []
          },
          "execution_count": 32
        }
      ]
    }
  ]
}